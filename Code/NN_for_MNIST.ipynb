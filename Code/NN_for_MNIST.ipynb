{
 "cells": [
  {
   "cell_type": "markdown",
   "metadata": {
    "colab_type": "text",
    "id": "anT-jJ1cj4K5"
   },
   "source": [
    "# ** Neural Network for Iris Dataset **"
   ]
  },
  {
   "cell_type": "markdown",
   "metadata": {
    "colab_type": "text",
    "id": "w2tkSsPlkBgX"
   },
   "source": [
    "NN for the Iris dataset using keras and backpropagation"
   ]
  },
  {
   "cell_type": "code",
   "execution_count": 1,
   "metadata": {
    "colab": {
     "base_uri": "https://localhost:8080/",
     "height": 408
    },
    "colab_type": "code",
    "id": "gxg1ynUvkd8Z",
    "outputId": "2b44999e-6dc3-4aa9-a24a-f3138da36914"
   },
   "outputs": [
    {
     "name": "stdout",
     "output_type": "stream",
     "text": [
      "2.0.0\n"
     ]
    },
    {
     "name": "stderr",
     "output_type": "stream",
     "text": [
      "Using TensorFlow backend.\n"
     ]
    }
   ],
   "source": [
    "%matplotlib inline\n",
    "from matplotlib import pyplot as plt\n",
    "import numpy as np\n",
    "\n",
    "import pandas as pd\n",
    "\n",
    "import tensorflow as tf\n",
    "\n",
    "from tensorflow import keras\n",
    "from tensorflow.keras import layers\n",
    "\n",
    "import tensorflow_docs as tfdocs\n",
    "import tensorflow_docs.plots\n",
    "import tensorflow_docs.modeling\n",
    "\n",
    "print(tf.__version__)\n",
    "\n",
    "from IPython.display import SVG\n",
    "from keras.utils import model_to_dot\n",
    "import pydot\n",
    "\n",
    "from sklearn.datasets import load_digits\n",
    "from sklearn.model_selection import train_test_split\n",
    "from sklearn.preprocessing import OneHotEncoder, StandardScaler"
   ]
  },
  {
   "cell_type": "code",
   "execution_count": 2,
   "metadata": {
    "colab": {},
    "colab_type": "code",
    "id": "LyAVoO0ZkmKL"
   },
   "outputs": [],
   "source": [
    "# Weights and biases to track the hyperparameters\n",
    "# import wandb\n",
    "# wandb.init(project=\"nn-testing\")\n",
    "# from wandb.keras import WandbCallback\n",
    "# wandb.init(config={\"hyper\": \"parameter\"})"
   ]
  },
  {
   "cell_type": "code",
   "execution_count": 3,
   "metadata": {
    "colab": {
     "base_uri": "https://localhost:8080/",
     "height": 1000
    },
    "colab_type": "code",
    "id": "QcyChPPikpu3",
    "outputId": "0af0a79f-f6a2-475f-d580-0f43e9342cfd"
   },
   "outputs": [],
   "source": [
    "# The digits dataset\n",
    "digits = load_digits()\n",
    "X = digits['data'] # (1797, 64), 1797 digits, 64 pixels per 8x8 image\n",
    "y = digits['target'] # 1797 labels of 0-9\n",
    "images = digits['images'] # (1797, 8, 8) dataset\n",
    "names = digits['target_names'] # [0 1 2 3 4 5 6 7 8 9]\n",
    "\n",
    "# One hot encoding\n",
    "enc = OneHotEncoder()\n",
    "Y = enc.fit_transform(y[:, np.newaxis]).toarray()\n",
    "\n",
    "#preprocess: scale between 0 and 1\n",
    "X /= 16.0\n",
    "images /= 16.0"
   ]
  },
  {
   "cell_type": "code",
   "execution_count": 4,
   "metadata": {},
   "outputs": [
    {
     "data": {
      "image/png": "[encoded data removed]",
      "text/plain": [
       "<Figure size 432x288 with 5 Axes>"
      ]
     },
     "metadata": {
      "needs_background": "light"
     },
     "output_type": "display_data"
    },
    {
     "data": {
      "image/png": "[encoded data removed]",
      "text/plain": [
       "<Figure size 432x288 with 5 Axes>"
      ]
     },
     "metadata": {
      "needs_background": "light"
     },
     "output_type": "display_data"
    }
   ],
   "source": [
    "# The data that we are interested in is made of 8x8 images of digits, let's\n",
    "# have a look at the first 4 images, stored in the `images` attribute of the\n",
    "# dataset.  If we were working from image files, we could load them using\n",
    "# matplotlib.pyplot.imread.  Note that each image must have the same size. For these\n",
    "# images, we know which digit they represent: it is given in the 'target' of\n",
    "# the dataset.\n",
    "_, axes = plt.subplots(1, 5)\n",
    "images_and_labels = list(zip(digits.images, digits.target))\n",
    "for ax, (image, label) in zip(axes, images_and_labels[:5]):\n",
    "    ax.set_axis_off()\n",
    "    ax.imshow(image, cmap=plt.cm.gray_r, interpolation='nearest')\n",
    "    ax.set_title('Training: %i' % label)\n",
    "_, axes = plt.subplots(1, 5)\n",
    "images_and_labels = list(zip(digits.images, digits.target))\n",
    "for ax, (image, label) in zip(axes, images_and_labels[5:10]):\n",
    "    ax.set_axis_off()\n",
    "    ax.imshow(image, cmap=plt.cm.gray_r, interpolation='nearest')\n",
    "    ax.set_title('Training: %i' % label)"
   ]
  },
  {
   "cell_type": "code",
   "execution_count": 5,
   "metadata": {
    "colab": {
     "base_uri": "https://localhost:8080/",
     "height": 1000
    },
    "colab_type": "code",
    "id": "QcyChPPikpu3",
    "outputId": "0af0a79f-f6a2-475f-d580-0f43e9342cfd",
    "scrolled": true
   },
   "outputs": [
    {
     "name": "stdout",
     "output_type": "stream",
     "text": [
      "X_train shape = (1437, 8, 8)\n",
      "Y_train shape = (1437,)\n",
      "X_test shape = (360, 8, 8)\n",
      "Y_test shape = (360,)\n",
      "no. samples = 1797\n",
      "no. classes = 10\n"
     ]
    }
   ],
   "source": [
    "# Split the data set into training and testing\n",
    "X_train, X_test, Y_train, Y_test = train_test_split(images, y, test_size=0.2, random_state=2)\n",
    "print(\"X_train shape = {}\".format(X_train.shape))\n",
    "print(\"Y_train shape = {}\".format(Y_train.shape))\n",
    "print(\"X_test shape = {}\".format(X_test.shape))\n",
    "print(\"Y_test shape = {}\".format(Y_test.shape))\n",
    "\n",
    "n_samples = X.shape[0]\n",
    "print(\"no. samples = {}\".format(n_samples))\n",
    "n_classes = Y.shape[1]\n",
    "print(\"no. classes = {}\".format(n_classes))"
   ]
  },
  {
   "cell_type": "code",
   "execution_count": 6,
   "metadata": {},
   "outputs": [
    {
     "name": "stdout",
     "output_type": "stream",
     "text": [
      "Model: \"sequential\"\n",
      "_________________________________________________________________\n",
      "Layer (type)                 Output Shape              Param #   \n",
      "=================================================================\n",
      "flatten (Flatten)            (None, 64)                0         \n",
      "_________________________________________________________________\n",
      "dense (Dense)                (None, 128)               8320      \n",
      "_________________________________________________________________\n",
      "dense_1 (Dense)              (None, 10)                1290      \n",
      "=================================================================\n",
      "Total params: 9,610\n",
      "Trainable params: 9,610\n",
      "Non-trainable params: 0\n",
      "_________________________________________________________________\n"
     ]
    }
   ],
   "source": [
    "def build_model():\n",
    "    \n",
    "    model = keras.Sequential([\n",
    "    keras.layers.Flatten(input_shape=(8, 8)),\n",
    "    keras.layers.Dense(128, activation='relu'),\n",
    "    keras.layers.Dense(10)\n",
    "])\n",
    "\n",
    "    model.compile(optimizer='adam',\n",
    "              loss=tf.keras.losses.SparseCategoricalCrossentropy(from_logits=True),\n",
    "              metrics=['accuracy', 'mae', 'mse'])\n",
    "    return model\n",
    "\n",
    "model = build_model()\n",
    "\n",
    "# The patience parameter is the amount of epochs to check for improvement\n",
    "early_stop = keras.callbacks.EarlyStopping(monitor='val_loss', patience=15)\n",
    "\n",
    "model.summary()"
   ]
  },
  {
   "cell_type": "markdown",
   "metadata": {},
   "source": [
    "## Train the full model\n",
    "\n",
    "#### Epochs\n",
    "This is the number of times the network trains forwards and backwards, we will leave this as a high number as we implement early stopping.\n",
    "\n",
    "#### History\n",
    "History saves the model fitting data allowing us to plot and visualise it.\n",
    "\n",
    "#### Validation split\n",
    "The validation split: If you set the validation_split argument in model.fit to e.g. 0.1, then the validation data used will be the last 10% of the data. Note that the data isn't shuffled before extracting the validation split, so the validation is literally just the last x% of samples in the input you passed. Used to validate as you train."
   ]
  },
  {
   "cell_type": "code",
   "execution_count": 13,
   "metadata": {},
   "outputs": [
    {
     "name": "stdout",
     "output_type": "stream",
     "text": [
      "\n",
      "Epoch: 0, accuracy:0.8686,  loss:0.9820,  mae:5.1957,  mse:35.9344,  val_accuracy:0.8542,  val_loss:0.9945,  val_mae:5.4578,  val_mse:39.4080,  \n",
      ".................................................."
     ]
    }
   ],
   "source": [
    "EPOCHS = 50\n",
    "\n",
    "history = model.fit(X_train, Y_train, epochs=EPOCHS, batch_size = 32, validation_split = 0.2,\n",
    "                    verbose=0 , callbacks=[ tfdocs.modeling.EpochDots()] )"
   ]
  },
  {
   "cell_type": "markdown",
   "metadata": {},
   "source": [
    "History is a dataframe, we can print the tail of this for the last 5 epochs to see what data we collect at each epoch."
   ]
  },
  {
   "cell_type": "code",
   "execution_count": 14,
   "metadata": {},
   "outputs": [
    {
     "data": {
      "text/html": [
       "<div>\n",
       "<style scoped>\n",
       "    .dataframe tbody tr th:only-of-type {\n",
       "        vertical-align: middle;\n",
       "    }\n",
       "\n",
       "    .dataframe tbody tr th {\n",
       "        vertical-align: top;\n",
       "    }\n",
       "\n",
       "    .dataframe thead th {\n",
       "        text-align: right;\n",
       "    }\n",
       "</style>\n",
       "<table border=\"1\" class=\"dataframe\">\n",
       "  <thead>\n",
       "    <tr style=\"text-align: right;\">\n",
       "      <th></th>\n",
       "      <th>loss</th>\n",
       "      <th>accuracy</th>\n",
       "      <th>mae</th>\n",
       "      <th>mse</th>\n",
       "      <th>val_loss</th>\n",
       "      <th>val_accuracy</th>\n",
       "      <th>val_mae</th>\n",
       "      <th>val_mse</th>\n",
       "      <th>epoch</th>\n",
       "    </tr>\n",
       "  </thead>\n",
       "  <tbody>\n",
       "    <tr>\n",
       "      <th>45</th>\n",
       "      <td>0.140906</td>\n",
       "      <td>0.970409</td>\n",
       "      <td>7.777272</td>\n",
       "      <td>79.824074</td>\n",
       "      <td>0.180099</td>\n",
       "      <td>0.947917</td>\n",
       "      <td>8.003314</td>\n",
       "      <td>84.114304</td>\n",
       "      <td>45</td>\n",
       "    </tr>\n",
       "    <tr>\n",
       "      <th>46</th>\n",
       "      <td>0.137452</td>\n",
       "      <td>0.973020</td>\n",
       "      <td>7.814805</td>\n",
       "      <td>80.643951</td>\n",
       "      <td>0.176859</td>\n",
       "      <td>0.951389</td>\n",
       "      <td>8.040371</td>\n",
       "      <td>84.925453</td>\n",
       "      <td>46</td>\n",
       "    </tr>\n",
       "    <tr>\n",
       "      <th>47</th>\n",
       "      <td>0.135479</td>\n",
       "      <td>0.974761</td>\n",
       "      <td>7.845064</td>\n",
       "      <td>81.243256</td>\n",
       "      <td>0.175734</td>\n",
       "      <td>0.947917</td>\n",
       "      <td>8.068811</td>\n",
       "      <td>85.572983</td>\n",
       "      <td>47</td>\n",
       "    </tr>\n",
       "    <tr>\n",
       "      <th>48</th>\n",
       "      <td>0.132188</td>\n",
       "      <td>0.973020</td>\n",
       "      <td>7.874745</td>\n",
       "      <td>82.039246</td>\n",
       "      <td>0.172082</td>\n",
       "      <td>0.954861</td>\n",
       "      <td>8.101030</td>\n",
       "      <td>86.314957</td>\n",
       "      <td>48</td>\n",
       "    </tr>\n",
       "    <tr>\n",
       "      <th>49</th>\n",
       "      <td>0.129525</td>\n",
       "      <td>0.972150</td>\n",
       "      <td>7.907939</td>\n",
       "      <td>82.621582</td>\n",
       "      <td>0.169726</td>\n",
       "      <td>0.951389</td>\n",
       "      <td>8.132876</td>\n",
       "      <td>86.859177</td>\n",
       "      <td>49</td>\n",
       "    </tr>\n",
       "  </tbody>\n",
       "</table>\n",
       "</div>"
      ],
      "text/plain": [
       "        loss  accuracy       mae        mse  val_loss  val_accuracy   val_mae  \\\n",
       "45  0.140906  0.970409  7.777272  79.824074  0.180099      0.947917  8.003314   \n",
       "46  0.137452  0.973020  7.814805  80.643951  0.176859      0.951389  8.040371   \n",
       "47  0.135479  0.974761  7.845064  81.243256  0.175734      0.947917  8.068811   \n",
       "48  0.132188  0.973020  7.874745  82.039246  0.172082      0.954861  8.101030   \n",
       "49  0.129525  0.972150  7.907939  82.621582  0.169726      0.951389  8.132876   \n",
       "\n",
       "      val_mse  epoch  \n",
       "45  84.114304     45  \n",
       "46  84.925453     46  \n",
       "47  85.572983     47  \n",
       "48  86.314957     48  \n",
       "49  86.859177     49  "
      ]
     },
     "execution_count": 14,
     "metadata": {},
     "output_type": "execute_result"
    }
   ],
   "source": [
    "hist = pd.DataFrame(history.history)\n",
    "hist['epoch'] = history.epoch\n",
    "hist.tail()"
   ]
  },
  {
   "cell_type": "markdown",
   "metadata": {},
   "source": [
    "We can plot the mean absolute error for the training data and the validation data. When the validation data levels off our model is no longer improving."
   ]
  },
  {
   "cell_type": "code",
   "execution_count": 17,
   "metadata": {},
   "outputs": [
    {
     "data": {
      "text/plain": [
       "Text(0, 0.5, 'MSE')"
      ]
     },
     "execution_count": 17,
     "metadata": {},
     "output_type": "execute_result"
    },
    {
     "data": {
      "image/png": "[encoded data removed]",
      "text/plain": [
       "<Figure size 432x288 with 1 Axes>"
      ]
     },
     "metadata": {
      "needs_background": "light"
     },
     "output_type": "display_data"
    },
    {
     "data": {
      "image/png": "[encoded data removed]",
      "text/plain": [
       "<Figure size 432x288 with 1 Axes>"
      ]
     },
     "metadata": {
      "needs_background": "light"
     },
     "output_type": "display_data"
    }
   ],
   "source": [
    "plotter = tfdocs.plots.HistoryPlotter(smoothing_std=2)\n",
    "\n",
    "plotter.plot({'Basic': history}, metric = \"accuracy\")\n",
    "# plt.ylim([0, 1])\n",
    "plt.ylabel('accuracy')\n",
    "\n",
    "plt.figure()\n",
    "plotter.plot({'Basic': history}, metric = \"mse\")\n",
    "# plt.ylim([0, 1])\n",
    "plt.ylabel('MSE')"
   ]
  },
  {
   "cell_type": "markdown",
   "metadata": {},
   "source": [
    "## Testing the model"
   ]
  },
  {
   "cell_type": "markdown",
   "metadata": {},
   "source": [
    "We now used this learnt model to predict outputs using our test inputs.\n",
    "\n",
    "We note that y_test are the real output values that match the inputs X_test."
   ]
  },
  {
   "cell_type": "code",
   "execution_count": 23,
   "metadata": {},
   "outputs": [
    {
     "name": "stdout",
     "output_type": "stream",
     "text": [
      "360/1 - 0s - loss: 0.1571 - accuracy: 0.9389 - mae: 7.8975 - mse: 82.1953\n",
      "[0.2671591877937317, 0.9388889, 7.8975096, 82.195305]\n",
      "360/1 - 0s - loss: 0.1571 - accuracy: 0.9389 - mae: 7.8975 - mse: 82.1953\n",
      "\n",
      "Test accuracy: 0.9388889\n",
      "\n",
      "Test loss: 0.2671591877937317\n"
     ]
    }
   ],
   "source": [
    "test_loss, test_acc, test_mae, test_mse = model.evaluate(X_test, Y_test, verbose=2)\n",
    "\n",
    "print('\\nTest accuracy:', test_acc)\n",
    "print('\\nTest loss:', test_loss)"
   ]
  },
  {
   "cell_type": "markdown",
   "metadata": {},
   "source": [
    "### Make predictions\n",
    "\n",
    "With the model trained, you can use it to make predictions about some images. The model's linear outputs, logits. Attach a softmax layer to convert the logits to probabilities, which are easier to interpret."
   ]
  },
  {
   "cell_type": "code",
   "execution_count": 24,
   "metadata": {},
   "outputs": [],
   "source": [
    "probability_model = keras.Sequential([model, keras.layers.Softmax()])\n",
    "predictions = probability_model.predict(X_test)"
   ]
  },
  {
   "cell_type": "code",
   "execution_count": 30,
   "metadata": {},
   "outputs": [],
   "source": [
    "def plot_image(i, predictions_array, true_label, img):\n",
    "    predictions_array, true_label, img = predictions_array, true_label[i], img[i]\n",
    "    plt.grid(False)\n",
    "    plt.xticks([])\n",
    "    plt.yticks([])\n",
    "\n",
    "    plt.imshow(img, cmap=plt.cm.binary)\n",
    "\n",
    "    predicted_label = np.argmax(predictions_array)\n",
    "    if predicted_label == true_label:\n",
    "        color = 'blue'\n",
    "    else:\n",
    "        color = 'red'\n",
    "\n",
    "    plt.xlabel(\"{} {:2.0f}% ({})\".format(names[predicted_label],\n",
    "                                100*np.max(predictions_array),\n",
    "                                names[true_label]),\n",
    "                                color=color)\n",
    "\n",
    "def plot_value_array(i, predictions_array, true_label):\n",
    "    predictions_array, true_label = predictions_array, true_label[i]\n",
    "    plt.grid(False)\n",
    "    plt.xticks(range(10))\n",
    "    plt.yticks([])\n",
    "    thisplot = plt.bar(range(10), predictions_array, color=\"#777777\")\n",
    "    plt.ylim([0, 1])\n",
    "    predicted_label = np.argmax(predictions_array)\n",
    "\n",
    "    thisplot[predicted_label].set_color('red')\n",
    "    thisplot[true_label].set_color('blue')"
   ]
  },
  {
   "cell_type": "code",
   "execution_count": 32,
   "metadata": {},
   "outputs": [
    {
     "data": {
      "image/png": "[encoded data removed]",
      "text/plain": [
       "<Figure size 864x720 with 30 Axes>"
      ]
     },
     "metadata": {
      "needs_background": "light"
     },
     "output_type": "display_data"
    }
   ],
   "source": [
    "num_rows = 5\n",
    "num_cols = 3\n",
    "num_images = num_rows*num_cols\n",
    "plt.figure(figsize=(2*2*num_cols, 2*num_rows))\n",
    "for i in range(num_images):\n",
    "    plt.subplot(num_rows, 2*num_cols, 2*i+1)\n",
    "    plot_image(i, predictions[i], Y_test, X_test)\n",
    "    plt.subplot(num_rows, 2*num_cols, 2*i+2)\n",
    "    plot_value_array(i, predictions[i], Y_test)\n",
    "plt.tight_layout()\n",
    "plt.show()"
   ]
  }
 ],
 "metadata": {
  "colab": {
   "collapsed_sections": [],
   "name": "NN for Iris.ipynb",
   "provenance": []
  },
  "kernelspec": {
   "display_name": "Python 3",
   "language": "python",
   "name": "python3"
  },
  "language_info": {
   "codemirror_mode": {
    "name": "ipython",
    "version": 3
   },
   "file_extension": ".py",
   "mimetype": "text/x-python",
   "name": "python",
   "nbconvert_exporter": "python",
   "pygments_lexer": "ipython3",
   "version": "3.7.4"
  }
 },
 "nbformat": 4,
 "nbformat_minor": 1
}
