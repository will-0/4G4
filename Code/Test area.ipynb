{
 "cells": [
  {
   "cell_type": "code",
   "execution_count": 1,
   "metadata": {},
   "outputs": [],
   "source": [
    "import numpy as np\n",
    "import warnings\n",
    "warnings.filterwarnings('ignore')\n",
    "\n",
    "import tensorflow as tf\n",
    "\n",
    "# Set seed for reproducible results\n",
    "np.random.seed(1)\n",
    "tf.random.set_seed(1)"
   ]
  },
  {
   "cell_type": "code",
   "execution_count": 2,
   "metadata": {},
   "outputs": [
    {
     "name": "stdout",
     "output_type": "stream",
     "text": [
      "2.1.0\n"
     ]
    },
    {
     "name": "stderr",
     "output_type": "stream",
     "text": [
      "Using TensorFlow backend.\n"
     ]
    }
   ],
   "source": [
    "%matplotlib inline\n",
    "from matplotlib import pyplot as plt\n",
    "\n",
    "import pandas as pd\n",
    "\n",
    "from tensorflow import keras\n",
    "from tensorflow.keras import layers\n",
    "\n",
    "import tensorflow_docs as tfdocs\n",
    "import tensorflow_docs.plots\n",
    "import tensorflow_docs.modeling\n",
    "\n",
    "print(tf.__version__)\n",
    "\n",
    "from IPython.display import SVG\n",
    "from keras.utils import model_to_dot\n",
    "import pydot\n",
    "\n",
    "from sklearn.datasets import load_iris, load_digits\n",
    "from sklearn.model_selection import train_test_split\n",
    "from sklearn.preprocessing import OneHotEncoder, StandardScaler\n",
    "\n",
    "from SwarmParty import NN_Swarm"
   ]
  },
  {
   "cell_type": "markdown",
   "metadata": {},
   "source": [
    "# Testing area\n",
    "\n",
    "This is the area for us to test the performance of our swarm-optimized neural networks. The steps for testing a neural network are as follows:\n",
    "\n",
    "1. Define a model using the Keras framework\n",
    "\n",
    "2. Acquire some training and test data\n",
    "\n",
    "3. Provide both model and data to a swarm and begin optimization"
   ]
  },
  {
   "cell_type": "markdown",
   "metadata": {},
   "source": [
    "### Contents\n",
    "\n",
    "- [How to use the swarm optimizer](#howto)\n",
    "- [Testing on Iris dataset](#iris)\n",
    "- [Testing on MNIST dataset](#mnist)"
   ]
  },
  {
   "cell_type": "markdown",
   "metadata": {},
   "source": [
    "## How to use the swarm optimizer <a id=\"howto\"></a>"
   ]
  },
  {
   "cell_type": "markdown",
   "metadata": {},
   "source": [
    "#### Create a swarm"
   ]
  },
  {
   "cell_type": "markdown",
   "metadata": {},
   "source": [
    "The first thing to do is create your own swarm, which can be created by making an instance of the swarm class. The is done as follows:"
   ]
  },
  {
   "cell_type": "code",
   "execution_count": 3,
   "metadata": {},
   "outputs": [],
   "source": [
    "my_swarm = NN_Swarm()"
   ]
  },
  {
   "cell_type": "markdown",
   "metadata": {},
   "source": [
    "This generates a swarm, with the parameters that can be defined at this point. These are *n\\_particles*, *x\\_min_*/*x\\_max*, *v_min*/*v_max*, *c_1* and *c_2*. By default, these parameters are chosen to have some values, but they can be be easily changed like this:"
   ]
  },
  {
   "cell_type": "code",
   "execution_count": 4,
   "metadata": {},
   "outputs": [],
   "source": [
    "my_swarm.n_particles = 50"
   ]
  },
  {
   "cell_type": "markdown",
   "metadata": {},
   "source": [
    "#### Provide a network model"
   ]
  },
  {
   "cell_type": "markdown",
   "metadata": {},
   "source": [
    "NN_Swarms are specifically designed from optimization of keras-defined neural network models. To do this, let's first create a super simple keras model:"
   ]
  },
  {
   "cell_type": "code",
   "execution_count": 5,
   "metadata": {},
   "outputs": [],
   "source": [
    "# define the keras model\n",
    "from tensorflow.keras.models import Sequential\n",
    "from tensorflow.keras.layers import Dense\n",
    "model = Sequential()\n",
    "model.add(Dense(10, input_dim=4, activation='relu'))\n",
    "model.add(Dense(10, activation='relu'))\n",
    "model.add(Dense(3, activation='sigmoid'))\n",
    "model.compile(loss='mse', optimizer=\"adam\")"
   ]
  },
  {
   "cell_type": "markdown",
   "metadata": {},
   "source": [
    "Once you have made a neural net, you can pass it to the swarm using the *provide_model()* method, as demonstrated:"
   ]
  },
  {
   "cell_type": "code",
   "execution_count": 6,
   "metadata": {},
   "outputs": [],
   "source": [
    "my_swarm.provide_model(model)"
   ]
  },
  {
   "cell_type": "markdown",
   "metadata": {},
   "source": [
    "*Note: The function described above also uses this model to infer the dimensionality of the data (from the number of weights and biases)*"
   ]
  },
  {
   "cell_type": "markdown",
   "metadata": {},
   "source": [
    "#### Provide data\n",
    "\n",
    "Now that it possesses a neural network model, the swarm works by using the model to evaluate the objective function for a given particles position at every iteration. The model needs to data to evaluate, so this is provided to the swarm next. Let's get some example data to pass to it first:"
   ]
  },
  {
   "cell_type": "code",
   "execution_count": 7,
   "metadata": {
    "scrolled": true
   },
   "outputs": [],
   "source": [
    "from sklearn.datasets import load_iris\n",
    "from sklearn.model_selection import train_test_split\n",
    "from sklearn.preprocessing import OneHotEncoder, StandardScaler\n",
    "enc = OneHotEncoder(); scaler = StandardScaler();\n",
    "\n",
    "iris = load_iris()\n",
    "X = iris['data']; y = iris['target']\n",
    "Y = enc.fit_transform(y[:, np.newaxis]).toarray()\n",
    "X_scaled = scaler.fit_transform(X)\n",
    "X_train, X_test, Y_train, Y_test = train_test_split(X_scaled, Y, test_size=0.2, random_state=2)"
   ]
  },
  {
   "cell_type": "code",
   "execution_count": 8,
   "metadata": {},
   "outputs": [
    {
     "name": "stdout",
     "output_type": "stream",
     "text": [
      "(50, 193)\n"
     ]
    }
   ],
   "source": [
    "my_swarm.provide_data(X_train, X_test, Y_train, Y_test)"
   ]
  },
  {
   "cell_type": "markdown",
   "metadata": {},
   "source": [
    "#### Train the model using the swarm optimizer\n",
    "\n",
    "The PSO algorithm can then be run, using the parameters previously set, with the simple function call my_swarm.train():"
   ]
  },
  {
   "cell_type": "code",
   "execution_count": 9,
   "metadata": {
    "scrolled": true
   },
   "outputs": [
    {
     "name": "stdout",
     "output_type": "stream",
     "text": [
      "Performance at iteration 10: 0.19360378285249075\r"
     ]
    }
   ],
   "source": [
    "my_swarm.train(iterations=10)"
   ]
  },
  {
   "cell_type": "markdown",
   "metadata": {},
   "source": [
    "#### Plot the training curve\n",
    "\n",
    "You can do this using the inbuilt method \"plot_training\":"
   ]
  },
  {
   "cell_type": "code",
   "execution_count": 10,
   "metadata": {},
   "outputs": [
    {
     "data": {
      "image/png": "[encoded data removed]",
      "text/plain": [
       "<Figure size 432x288 with 1 Axes>"
      ]
     },
     "metadata": {
      "needs_background": "light"
     },
     "output_type": "display_data"
    }
   ],
   "source": [
    "my_swarm.plot_training()"
   ]
  },
  {
   "cell_type": "markdown",
   "metadata": {},
   "source": [
    "Alternatively, you can give the optional argument \"get_curve\" when you use my_swarm.train(), and this will give you back a numpy array containing a vector for the training data set, and a vector for the the validation data set."
   ]
  },
  {
   "cell_type": "markdown",
   "metadata": {},
   "source": [
    "### Summary\n",
    "\n",
    "Once you have defined a model, and your training/test data, you implement the swarm optimizer with the following lines of code:"
   ]
  },
  {
   "cell_type": "code",
   "execution_count": 11,
   "metadata": {},
   "outputs": [
    {
     "name": "stdout",
     "output_type": "stream",
     "text": [
      "(30, 193)\n"
     ]
    }
   ],
   "source": [
    "my_swarm2 = NN_Swarm()\n",
    "my_swarm2.provide_model(model)\n",
    "my_swarm2.provide_data(X_train, X_test, Y_train, Y_test)"
   ]
  },
  {
   "cell_type": "markdown",
   "metadata": {},
   "source": [
    "Then train by doing:"
   ]
  },
  {
   "cell_type": "code",
   "execution_count": 12,
   "metadata": {},
   "outputs": [
    {
     "name": "stdout",
     "output_type": "stream",
     "text": [
      "Performance at iteration 10: 0.19283992449442547\r"
     ]
    },
    {
     "data": {
      "image/png": "[encoded data removed]",
      "text/plain": [
       "<Figure size 432x288 with 1 Axes>"
      ]
     },
     "metadata": {
      "needs_background": "light"
     },
     "output_type": "display_data"
    }
   ],
   "source": [
    "my_swarm2.train(iterations=10)\n",
    "my_swarm2.plot_training()"
   ]
  },
  {
   "cell_type": "markdown",
   "metadata": {},
   "source": [
    "## Test on the Iris data set <a id=\"iris\"></a>\n",
    "\n",
    "Although the data set above was actually also the Iris one, we'll do a more thorough, and commented version here. This is copied straight out of McKrimble's notebook (PSO_NN_for_Iris)\n",
    "\n",
    "- [Definition of neural network and collection of dataset](#nniris)\n",
    "- [Experimental region](#irisexp)\n",
    "    * [Test 1: Default Parameters](#irisdefault)\n",
    "    * [Test 2: Altering Vmax](#irisvmax)"
   ]
  },
  {
   "cell_type": "markdown",
   "metadata": {},
   "source": [
    "### Definition of neural network and collection of dataset <a id=\"nniris\"></a>"
   ]
  },
  {
   "cell_type": "code",
   "execution_count": 13,
   "metadata": {},
   "outputs": [
    {
     "name": "stdout",
     "output_type": "stream",
     "text": [
      "Iris_Xtrain shape = (120, 4)\n",
      "Iris_Ytrain shape = (120, 3)\n",
      "Iris_Xtest shape = (30, 4)\n",
      "Iris_Ytest shape = (30, 3)\n"
     ]
    }
   ],
   "source": [
    "iris = load_iris()\n",
    "X = iris['data'] # array of samples 4 dimensions each describing a feature\n",
    "y = iris['target'] # array of labels (0, 1, 2)\n",
    "names = iris['target_names'] # array of labels (0, 1, 2)\n",
    "feature_names = iris['feature_names'] # ['sepal length (cm)', 'sepal width (cm)', 'petal length (cm)', 'petal width (cm)']\n",
    "\n",
    "# One hot encoding\n",
    "enc = OneHotEncoder()\n",
    "Y = enc.fit_transform(y[:, np.newaxis]).toarray() # Y is output of 3 dimensions now, one hot encoding\n",
    "\n",
    "# Scale data to have mean 0 and variance 1 \n",
    "# which is importance for convergence of the neural network\n",
    "scaler = StandardScaler()\n",
    "X_scaled = scaler.fit_transform(X)\n",
    "\n",
    "# Split the data set into training and testing\n",
    "Iris_Xtrain, Iris_Xtest, Iris_Ytrain, Iris_Ytest = train_test_split(X_scaled, Y, test_size=0.2, random_state=2)\n",
    "print(\"Iris_Xtrain shape = {}\".format(Iris_Xtrain.shape))\n",
    "print(\"Iris_Ytrain shape = {}\".format(Iris_Ytrain.shape))\n",
    "print(\"Iris_Xtest shape = {}\".format(Iris_Xtest.shape))\n",
    "print(\"Iris_Ytest shape = {}\".format(Iris_Ytest.shape))\n",
    "\n",
    "n_features = X.shape[1]\n",
    "n_classes = Y.shape[1]"
   ]
  },
  {
   "cell_type": "code",
   "execution_count": 14,
   "metadata": {},
   "outputs": [
    {
     "name": "stdout",
     "output_type": "stream",
     "text": [
      "Model: \"sequential_1\"\n",
      "_________________________________________________________________\n",
      "Layer (type)                 Output Shape              Param #   \n",
      "=================================================================\n",
      "dense_3 (Dense)              (None, 10)                50        \n",
      "_________________________________________________________________\n",
      "dense_4 (Dense)              (None, 10)                110       \n",
      "_________________________________________________________________\n",
      "dense_5 (Dense)              (None, 3)                 33        \n",
      "=================================================================\n",
      "Total params: 193\n",
      "Trainable params: 193\n",
      "Non-trainable params: 0\n",
      "_________________________________________________________________\n"
     ]
    }
   ],
   "source": [
    "def build_model_iris():\n",
    "    model = keras.Sequential([\n",
    "    tf.keras.layers.Dense(10, activation=tf.nn.relu, input_shape=(4,)),  # input shape required\n",
    "    tf.keras.layers.Dense(10, activation=tf.nn.relu),\n",
    "    tf.keras.layers.Dense(3)\n",
    "    ])\n",
    "\n",
    "    optimizer = tf.keras.optimizers.RMSprop(0.001)\n",
    "\n",
    "    model.compile(loss='mse',\n",
    "                optimizer=optimizer)\n",
    "    return model\n",
    "\n",
    "# The patience parameter is the amount of epochs to check for improvement\n",
    "early_stop = keras.callbacks.EarlyStopping(monitor='val_loss', patience=15)\n",
    "\n",
    "build_model_iris().summary()"
   ]
  },
  {
   "cell_type": "markdown",
   "metadata": {},
   "source": [
    "### Experimental region <a id=\"irisexp\"></a>\n",
    "\n",
    "This is where we can run our experiments and invesigate parameters etc."
   ]
  },
  {
   "cell_type": "markdown",
   "metadata": {},
   "source": [
    "#### Test 1 - Default Parameters <a id=\"irisdefault\"></a>"
   ]
  },
  {
   "cell_type": "code",
   "execution_count": 15,
   "metadata": {},
   "outputs": [
    {
     "name": "stdout",
     "output_type": "stream",
     "text": [
      "(30, 193)\n"
     ]
    }
   ],
   "source": [
    "iris_swarm1 = NN_Swarm(v_max=0.1)\n",
    "iris_swarm1.provide_model(build_model_iris())\n",
    "iris_swarm1.provide_data(Iris_Xtrain, Iris_Xtest, Iris_Ytrain, Iris_Ytest)"
   ]
  },
  {
   "cell_type": "code",
   "execution_count": 16,
   "metadata": {},
   "outputs": [
    {
     "name": "stdout",
     "output_type": "stream",
     "text": [
      "Performance at iteration 40: 0.19905497133731842\r"
     ]
    },
    {
     "data": {
      "image/png": "[encoded data removed]",
      "text/plain": [
       "<Figure size 432x288 with 1 Axes>"
      ]
     },
     "metadata": {
      "needs_background": "light"
     },
     "output_type": "display_data"
    }
   ],
   "source": [
    "iris_swarm1.train(iterations=40)\n",
    "iris_swarm1.plot_training()"
   ]
  },
  {
   "cell_type": "code",
   "execution_count": 17,
   "metadata": {},
   "outputs": [
    {
     "name": "stdout",
     "output_type": "stream",
     "text": [
      "Test set accuracy: 56.667%\n"
     ]
    }
   ],
   "source": [
    "print(\"Test set accuracy: {:.3%}\".format(iris_swarm1.get_accuracy()))"
   ]
  },
  {
   "cell_type": "markdown",
   "metadata": {},
   "source": [
    "#### Test 2 - Altering Vmax <a id=\"irisvmax\"></a>"
   ]
  },
  {
   "cell_type": "code",
   "execution_count": 18,
   "metadata": {},
   "outputs": [
    {
     "name": "stdout",
     "output_type": "stream",
     "text": [
      "(30, 193)\n",
      "Performance at iteration 40: 0.07958340098460516\r"
     ]
    }
   ],
   "source": [
    "iris_swarm2 = NN_Swarm(v_max=0.5)\n",
    "iris_swarm2.provide_model(build_model_iris())\n",
    "iris_swarm2.provide_data(Iris_Xtrain, Iris_Xtest, Iris_Ytrain, Iris_Ytest)\n",
    "\n",
    "iris_swarm2.train(iterations=40)"
   ]
  },
  {
   "cell_type": "code",
   "execution_count": 19,
   "metadata": {},
   "outputs": [
    {
     "data": {
      "image/png": "[encoded data removed]",
      "text/plain": [
       "<Figure size 432x288 with 1 Axes>"
      ]
     },
     "metadata": {
      "needs_background": "light"
     },
     "output_type": "display_data"
    },
    {
     "data": {
      "text/plain": [
       "<Figure size 432x288 with 0 Axes>"
      ]
     },
     "metadata": {},
     "output_type": "display_data"
    }
   ],
   "source": [
    "iris_swarm2.plot_training(\"Iris_POD-NN_acc70.png\")"
   ]
  },
  {
   "cell_type": "code",
   "execution_count": 20,
   "metadata": {},
   "outputs": [
    {
     "name": "stdout",
     "output_type": "stream",
     "text": [
      "Test set accuracy: 90.000%\n"
     ]
    }
   ],
   "source": [
    "print(\"Test set accuracy: {:.3%}\".format(iris_swarm2.get_accuracy()))"
   ]
  },
  {
   "cell_type": "markdown",
   "metadata": {},
   "source": [
    "From this simple experiment, it seems that increasing vmax will result in an increased initial learning rate (note that the above experiment only ran for 10 iterations). Let's see what happens with a very large v_max:"
   ]
  },
  {
   "cell_type": "code",
   "execution_count": 21,
   "metadata": {},
   "outputs": [
    {
     "name": "stdout",
     "output_type": "stream",
     "text": [
      "(30, 193)\n"
     ]
    }
   ],
   "source": [
    "iris_swarm3 = NN_Swarm(v_max=5)\n",
    "iris_swarm3.provide_model(build_model_iris())\n",
    "iris_swarm3.provide_data(Iris_Xtrain, Iris_Xtest, Iris_Ytrain, Iris_Ytest)"
   ]
  },
  {
   "cell_type": "code",
   "execution_count": 22,
   "metadata": {},
   "outputs": [
    {
     "name": "stdout",
     "output_type": "stream",
     "text": [
      "Test set accuracy: 80.000%0: 0.12496010512113571\n"
     ]
    }
   ],
   "source": [
    "iris_swarm3.train(iterations=50)\n",
    "print(\"Test set accuracy: {:.3%}\".format(iris_swarm3.get_accuracy()))"
   ]
  },
  {
   "cell_type": "code",
   "execution_count": 23,
   "metadata": {},
   "outputs": [
    {
     "data": {
      "text/plain": [
       "<tf.Tensor: shape=(), dtype=float32, numpy=0.8>"
      ]
     },
     "execution_count": 23,
     "metadata": {},
     "output_type": "execute_result"
    }
   ],
   "source": [
    "iris_swarm3.get_accuracy()"
   ]
  },
  {
   "cell_type": "markdown",
   "metadata": {},
   "source": [
    "This actually led to even better training results! Let's now effectively remove vmax from the algorithm:"
   ]
  },
  {
   "cell_type": "code",
   "execution_count": 24,
   "metadata": {},
   "outputs": [
    {
     "name": "stdout",
     "output_type": "stream",
     "text": [
      "(30, 193)\n"
     ]
    }
   ],
   "source": [
    "iris_swarm4 = NN_Swarm(v_max=20)\n",
    "iris_swarm4.provide_model(build_model_iris())\n",
    "iris_swarm4.provide_data(Iris_Xtrain, Iris_Xtest, Iris_Ytrain, Iris_Ytest)"
   ]
  },
  {
   "cell_type": "code",
   "execution_count": 25,
   "metadata": {
    "scrolled": true
   },
   "outputs": [
    {
     "name": "stdout",
     "output_type": "stream",
     "text": [
      "Performance at iteration 50: 0.21390218238035838\r"
     ]
    },
    {
     "data": {
      "image/png": "[encoded data removed]",
      "text/plain": [
       "<Figure size 432x288 with 1 Axes>"
      ]
     },
     "metadata": {
      "needs_background": "light"
     },
     "output_type": "display_data"
    }
   ],
   "source": [
    "iris_swarm4.train(iterations=50)\n",
    "iris_swarm4.plot_training()"
   ]
  },
  {
   "cell_type": "code",
   "execution_count": 26,
   "metadata": {},
   "outputs": [
    {
     "name": "stdout",
     "output_type": "stream",
     "text": [
      "Test set accuracy: 70.000%\n"
     ]
    }
   ],
   "source": [
    "print(\"Test set accuracy: {:.3%}\".format(iris_swarm4.get_accuracy()))"
   ]
  },
  {
   "cell_type": "markdown",
   "metadata": {},
   "source": [
    "## Test on the MNIST data set <a id=\"mnist\"></a>\n",
    "\n",
    "Although the data set above was actually also the Iris one, we'll do a more thorough, and commented version here. This is copied straight out of McKrimble's notebook (PSO_NN_for_Iris)\n",
    "\n",
    "- [Definition of neural network and collection of dataset](#nnmnist)\n",
    "- [Experimental region](#mnistexp)\n",
    "    * [Test 1: Default Parameters](#mnistdefault)\n",
    "    * [Test 2: Altering Vmax](#mnistvmax)"
   ]
  },
  {
   "cell_type": "markdown",
   "metadata": {},
   "source": [
    "### Definition of neural network and collection of dataset <a id=\"nnmnist\"></a>"
   ]
  },
  {
   "cell_type": "code",
   "execution_count": 27,
   "metadata": {},
   "outputs": [],
   "source": [
    "# The digits dataset\n",
    "digits = load_digits()\n",
    "X = digits['data'] # (1797, 64), 1797 digits, 64 pixels per 8x8 image\n",
    "y = digits['target'] # 1797 labels of 0-9\n",
    "images = digits['images'] # (1797, 8, 8) dataset\n",
    "names = digits['target_names'] # [0 1 2 3 4 5 6 7 8 9]\n",
    "\n",
    "# One hot encoding\n",
    "enc = OneHotEncoder()\n",
    "Y = enc.fit_transform(y[:, np.newaxis]).toarray()\n",
    "\n",
    "#preprocess: scale between 0 and 1\n",
    "X /= 16.0\n",
    "images /= 16.0"
   ]
  },
  {
   "cell_type": "code",
   "execution_count": 28,
   "metadata": {},
   "outputs": [
    {
     "name": "stdout",
     "output_type": "stream",
     "text": [
      "XtrainMNIST shape = (1437, 8, 8)\n",
      "YtrainMNIST shape = (1437,)\n",
      "XtestMNIST shape = (360, 8, 8)\n",
      "YtestMNIST shape = (360,)\n"
     ]
    }
   ],
   "source": [
    "# Split the data set into training and testing\n",
    "XtrainMNIST, XtestMNIST, YtrainMNIST, YtestMNIST = train_test_split(images, y, test_size=0.2, random_state=2)\n",
    "print(\"XtrainMNIST shape = {}\".format(XtrainMNIST.shape))\n",
    "print(\"YtrainMNIST shape = {}\".format(YtrainMNIST.shape))\n",
    "print(\"XtestMNIST shape = {}\".format(XtestMNIST.shape))\n",
    "print(\"YtestMNIST shape = {}\".format(YtestMNIST.shape))"
   ]
  },
  {
   "cell_type": "code",
   "execution_count": 29,
   "metadata": {
    "scrolled": true
   },
   "outputs": [
    {
     "name": "stdout",
     "output_type": "stream",
     "text": [
      "Model: \"sequential_6\"\n",
      "_________________________________________________________________\n",
      "Layer (type)                 Output Shape              Param #   \n",
      "=================================================================\n",
      "flatten (Flatten)            (None, 64)                0         \n",
      "_________________________________________________________________\n",
      "dense_18 (Dense)             (None, 128)               8320      \n",
      "_________________________________________________________________\n",
      "dense_19 (Dense)             (None, 10)                1290      \n",
      "=================================================================\n",
      "Total params: 9,610\n",
      "Trainable params: 9,610\n",
      "Non-trainable params: 0\n",
      "_________________________________________________________________\n"
     ]
    }
   ],
   "source": [
    "def build_model_mnist():\n",
    "    \n",
    "    model = keras.Sequential([\n",
    "    keras.layers.Flatten(input_shape=(8, 8)),\n",
    "    keras.layers.Dense(128, activation='relu'),\n",
    "    keras.layers.Dense(10)\n",
    "])\n",
    "\n",
    "    model.compile(optimizer='adam',\n",
    "              loss=tf.keras.losses.SparseCategoricalCrossentropy(from_logits=True))\n",
    "    return model\n",
    "\n",
    "build_model_mnist().summary()"
   ]
  },
  {
   "cell_type": "markdown",
   "metadata": {},
   "source": [
    "### Experimental region <a id=\"mnistexp\"></a>\n",
    "\n",
    "Weirdly, it appears that keras is just as fast at evaluating the output of the entire (larger) dataset for MNIST as it is for the same dataset in iris. I really have no clue why this is, but we give thanks to the TensorFlow gods for such a phenomenom"
   ]
  },
  {
   "cell_type": "code",
   "execution_count": 30,
   "metadata": {},
   "outputs": [
    {
     "name": "stdout",
     "output_type": "stream",
     "text": [
      "141 ms ± 28.2 ms per loop (mean ± std. dev. of 7 runs, 10 loops each)\n"
     ]
    }
   ],
   "source": [
    "%timeit build_model_mnist().evaluate(XtrainMNIST, YtrainMNIST, verbose=0)"
   ]
  },
  {
   "cell_type": "markdown",
   "metadata": {},
   "source": [
    "#### Standard values <a id=\"mnistdefault\"></a>"
   ]
  },
  {
   "cell_type": "markdown",
   "metadata": {},
   "source": [
    "*Note: I've just realised that v_max = 1 isn't actually the standard value of 0.1 that we used. From playing around though, any smaller and things just get boring*"
   ]
  },
  {
   "cell_type": "code",
   "execution_count": 40,
   "metadata": {},
   "outputs": [
    {
     "name": "stdout",
     "output_type": "stream",
     "text": [
      "(100, 9610)\n"
     ]
    }
   ],
   "source": [
    "mnist_swarm1 = NN_Swarm(n_particles = 100, v_max=5)\n",
    "mnist_swarm1.provide_model(build_model_mnist())\n",
    "mnist_swarm1.provide_data(XtrainMNIST, XtestMNIST, YtrainMNIST, YtestMNIST, names)"
   ]
  },
  {
   "cell_type": "code",
   "execution_count": null,
   "metadata": {},
   "outputs": [
    {
     "name": "stdout",
     "output_type": "stream",
     "text": [
      "Performance at iteration 56: 2.1136019998071256\r"
     ]
    }
   ],
   "source": [
    "mnist_swarm1.train(iterations = 200)"
   ]
  },
  {
   "cell_type": "code",
   "execution_count": null,
   "metadata": {},
   "outputs": [],
   "source": [
    "mnist_swarm1.plot_training()"
   ]
  },
  {
   "cell_type": "code",
   "execution_count": 34,
   "metadata": {},
   "outputs": [
    {
     "name": "stdout",
     "output_type": "stream",
     "text": [
      "Test set accuracy: 18.333%\n"
     ]
    }
   ],
   "source": [
    "test_accuracy = mnist_swarm1.get_accuracy(give_curve = False, isMnist = True)\n",
    "print(\"Test set accuracy: {:.3%}\".format(test_accuracy))"
   ]
  },
  {
   "cell_type": "markdown",
   "metadata": {},
   "source": [
    "#### Altering v_max <a id=\"mnistvmax\"></a>\n",
    "\n",
    "The dimensionality of this data is a lot greater than it was for the Iris dataset:"
   ]
  },
  {
   "cell_type": "code",
   "execution_count": 35,
   "metadata": {},
   "outputs": [
    {
     "name": "stdout",
     "output_type": "stream",
     "text": [
      "Number of dimensions for MNIST = 9610\n"
     ]
    }
   ],
   "source": [
    "print(\"Number of dimensions for MNIST = %d\" % mnist_swarm1.n_dims)"
   ]
  },
  {
   "cell_type": "markdown",
   "metadata": {},
   "source": [
    "This suggests we might be able to use a slightly speedier learning rate. Let's try this out:"
   ]
  },
  {
   "cell_type": "code",
   "execution_count": 36,
   "metadata": {},
   "outputs": [
    {
     "name": "stdout",
     "output_type": "stream",
     "text": [
      "(30, 9610)\n"
     ]
    }
   ],
   "source": [
    "mnist_swarm2 = NN_Swarm(n_particles = 30, v_max=5)\n",
    "mnist_swarm2.provide_model(build_model_mnist())\n",
    "mnist_swarm2.provide_data(XtrainMNIST, XtestMNIST, YtrainMNIST, YtestMNIST, names)"
   ]
  },
  {
   "cell_type": "code",
   "execution_count": 37,
   "metadata": {},
   "outputs": [
    {
     "name": "stdout",
     "output_type": "stream",
     "text": [
      "Performance at iteration 50: 2.2018263520842725\r"
     ]
    }
   ],
   "source": [
    "mnist_swarm2.train(iterations = 50)"
   ]
  },
  {
   "cell_type": "code",
   "execution_count": 38,
   "metadata": {},
   "outputs": [
    {
     "data": {
      "image/png": "[encoded data removed]",
      "text/plain": [
       "<Figure size 432x288 with 1 Axes>"
      ]
     },
     "metadata": {
      "needs_background": "light"
     },
     "output_type": "display_data"
    }
   ],
   "source": [
    "mnist_swarm2.plot_training()"
   ]
  },
  {
   "cell_type": "code",
   "execution_count": 39,
   "metadata": {},
   "outputs": [
    {
     "name": "stdout",
     "output_type": "stream",
     "text": [
      "Test set accuracy: 12.778%\n"
     ]
    }
   ],
   "source": [
    "test_accuracy = mnist_swarm2.get_accuracy(give_curve = False, isMnist = True)\n",
    "print(\"Test set accuracy: {:.3%}\".format(test_accuracy))"
   ]
  }
 ],
 "metadata": {
  "kernelspec": {
   "display_name": "Python 3",
   "language": "python",
   "name": "python3"
  },
  "language_info": {
   "codemirror_mode": {
    "name": "ipython",
    "version": 3
   },
   "file_extension": ".py",
   "mimetype": "text/x-python",
   "name": "python",
   "nbconvert_exporter": "python",
   "pygments_lexer": "ipython3",
   "version": "3.7.4"
  }
 },
 "nbformat": 4,
 "nbformat_minor": 4
}
