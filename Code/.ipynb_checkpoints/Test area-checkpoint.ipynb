{
 "cells": [
  {
   "cell_type": "code",
   "execution_count": 1,
   "metadata": {},
   "outputs": [],
   "source": [
    "import numpy as np\n",
    "import warnings\n",
    "warnings.filterwarnings('ignore')"
   ]
  },
  {
   "cell_type": "markdown",
   "metadata": {},
   "source": [
    "# Testing area\n",
    "\n",
    "This is the area for us to test the performance of our swarm-optimized neural networks. The steps for testing a neural network are as follows:\n",
    "\n",
    "1. Define a model using the Keras framework\n",
    "\n",
    "2. Acquire some training and test data\n",
    "\n",
    "3. Provide both model and data to a swarm and begin optimization"
   ]
  },
  {
   "cell_type": "markdown",
   "metadata": {},
   "source": [
    "### Contents\n",
    "\n",
    "- [How to use the swarm optimizer](#howto)\n",
    "- [Testing on Iris dataset](#iris)\n",
    "- [Testing on MNIST dataset](#mnist)"
   ]
  },
  {
   "cell_type": "markdown",
   "metadata": {},
   "source": [
    "## How to use the swarm optimizer <a id=\"howto\"></a>"
   ]
  },
  {
   "cell_type": "code",
   "execution_count": 2,
   "metadata": {},
   "outputs": [],
   "source": [
    "from SwarmParty import NN_Swarm"
   ]
  },
  {
   "cell_type": "markdown",
   "metadata": {},
   "source": [
    "#### Create a swarm"
   ]
  },
  {
   "cell_type": "markdown",
   "metadata": {},
   "source": [
    "The first thing to do is create your own swarm, which can be created by making an instance of the swarm class. The is done as follows:"
   ]
  },
  {
   "cell_type": "code",
   "execution_count": null,
   "metadata": {},
   "outputs": [],
   "source": [
    "my_swarm = NN_Swarm()"
   ]
  },
  {
   "cell_type": "markdown",
   "metadata": {},
   "source": [
    "This generates a swarm, with the parameters that can be defined at this point. These are *n\\_particles*, *x\\_min_*/*x\\_max*, *v_min*/*v_max*, *c_1* and *c_2*. By default, these parameters are chosen to have some values, but they can be be easily changed like this:"
   ]
  },
  {
   "cell_type": "code",
   "execution_count": null,
   "metadata": {},
   "outputs": [],
   "source": [
    "my_swarm.n_particles = 50"
   ]
  },
  {
   "cell_type": "markdown",
   "metadata": {},
   "source": [
    "#### Provide a network model"
   ]
  },
  {
   "cell_type": "markdown",
   "metadata": {},
   "source": [
    "NN_Swarms are specifically designed from optimization of keras-defined neural network models. To do this, let's first create a super simple keras model:"
   ]
  },
  {
   "cell_type": "code",
   "execution_count": null,
   "metadata": {},
   "outputs": [],
   "source": [
    "# define the keras model\n",
    "from tensorflow.keras.models import Sequential\n",
    "from tensorflow.keras.layers import Dense\n",
    "model = Sequential()\n",
    "model.add(Dense(10, input_dim=4, activation='relu'))\n",
    "model.add(Dense(10, activation='relu'))\n",
    "model.add(Dense(3, activation='sigmoid'))\n",
    "model.compile(loss='mse', optimizer=\"adam\")"
   ]
  },
  {
   "cell_type": "markdown",
   "metadata": {},
   "source": [
    "Once you have made a neural net, you can pass it to the swarm using the *provide_model()* method, as demonstrated:"
   ]
  },
  {
   "cell_type": "code",
   "execution_count": null,
   "metadata": {},
   "outputs": [],
   "source": [
    "my_swarm.provide_model(model)"
   ]
  },
  {
   "cell_type": "markdown",
   "metadata": {},
   "source": [
    "*Note: The function described above also uses this model to infer the dimensionality of the data (from the number of weights and biases)*"
   ]
  },
  {
   "cell_type": "markdown",
   "metadata": {},
   "source": [
    "#### Provide data\n",
    "\n",
    "Now that it possesses a neural network model, the swarm works by using the model to evaluate the objective function for a given particles position at every iteration. The model needs to data to evaluate, so this is provided to the swarm next. Let's get some example data to pass to it first:"
   ]
  },
  {
   "cell_type": "code",
   "execution_count": null,
   "metadata": {
    "scrolled": true
   },
   "outputs": [],
   "source": [
    "from sklearn.datasets import load_iris\n",
    "from sklearn.model_selection import train_test_split\n",
    "from sklearn.preprocessing import OneHotEncoder, StandardScaler\n",
    "enc = OneHotEncoder(); scaler = StandardScaler();\n",
    "\n",
    "iris = load_iris()\n",
    "X = iris['data']; y = iris['target']\n",
    "Y = enc.fit_transform(y[:, np.newaxis]).toarray()\n",
    "X_scaled = scaler.fit_transform(X)\n",
    "X_train, X_test, Y_train, Y_test = train_test_split(X_scaled, Y, test_size=0.2, random_state=2)"
   ]
  },
  {
   "cell_type": "code",
   "execution_count": null,
   "metadata": {},
   "outputs": [],
   "source": [
    "my_swarm.provide_data(X_train, X_test, Y_train, Y_test)"
   ]
  },
  {
   "cell_type": "markdown",
   "metadata": {},
   "source": [
    "#### Train the model using the swarm optimizer\n",
    "\n",
    "The PSO algorithm can then be run, using the parameters previously set, with the simple function call my_swarm.train():"
   ]
  },
  {
   "cell_type": "code",
   "execution_count": null,
   "metadata": {
    "scrolled": true
   },
   "outputs": [],
   "source": [
    "my_swarm.train(iterations=10)"
   ]
  },
  {
   "cell_type": "markdown",
   "metadata": {},
   "source": [
    "#### Plot the training curve\n",
    "\n",
    "You can do this using the inbuilt method \"plot_training\":"
   ]
  },
  {
   "cell_type": "code",
   "execution_count": null,
   "metadata": {},
   "outputs": [],
   "source": [
    "my_swarm.plot_training()"
   ]
  },
  {
   "cell_type": "markdown",
   "metadata": {},
   "source": [
    "Alternatively, you can give the optional argument \"get_curve\" when you use my_swarm.train(), and this will give you back a numpy array containing a vector for the training data set, and a vector for the the validation data set."
   ]
  },
  {
   "cell_type": "markdown",
   "metadata": {},
   "source": [
    "### Summary\n",
    "\n",
    "Once you have defined a model, and your training/test data, you implement the swarm optimizer with the following lines of code:"
   ]
  },
  {
   "cell_type": "code",
   "execution_count": null,
   "metadata": {},
   "outputs": [],
   "source": [
    "my_swarm2 = NN_Swarm()\n",
    "my_swarm2.provide_model(model)\n",
    "my_swarm2.provide_data(X_train, X_test, Y_train, Y_test)"
   ]
  },
  {
   "cell_type": "markdown",
   "metadata": {},
   "source": [
    "Then train by doing:"
   ]
  },
  {
   "cell_type": "code",
   "execution_count": null,
   "metadata": {},
   "outputs": [],
   "source": [
    "my_swarm2.train(iterations=10)\n",
    "my_swarm2.plot_training()"
   ]
  },
  {
   "cell_type": "markdown",
   "metadata": {},
   "source": [
    "## Test on the Iris data set <a id=\"iris\"></a>\n",
    "\n",
    "Although the data set above was actually also the Iris one, we'll do a more thorough, and commented version here. This is copied straight out of McKrimble's notebook (PSO_NN_for_Iris)\n",
    "\n",
    "- [Definition of neural network and collection of dataset](#nniris)\n",
    "- [Experimental region](#irisexp)\n",
    "    * [Test 1: Default Parameters](#irisdefault)\n",
    "    * [Test 2: Altering Vmax](#irisvmax)"
   ]
  },
  {
   "cell_type": "markdown",
   "metadata": {},
   "source": [
    "### Definition of neural network and collection of dataset <a id=\"nniris\"></a>"
   ]
  },
  {
   "cell_type": "code",
   "execution_count": null,
   "metadata": {},
   "outputs": [],
   "source": [
    "%matplotlib inline\n",
    "from matplotlib import pyplot as plt\n",
    "import numpy as np\n",
    "\n",
    "import pandas as pd\n",
    "\n",
    "import tensorflow as tf\n",
    "\n",
    "from tensorflow import keras\n",
    "from tensorflow.keras import layers\n",
    "\n",
    "import tensorflow_docs as tfdocs\n",
    "import tensorflow_docs.plots\n",
    "import tensorflow_docs.modeling\n",
    "\n",
    "print(tf.__version__)\n",
    "\n",
    "from IPython.display import SVG\n",
    "from keras.utils import model_to_dot\n",
    "import pydot\n",
    "\n",
    "from sklearn.datasets import load_iris\n",
    "from sklearn.model_selection import train_test_split\n",
    "from sklearn.preprocessing import OneHotEncoder, StandardScaler"
   ]
  },
  {
   "cell_type": "code",
   "execution_count": null,
   "metadata": {},
   "outputs": [],
   "source": [
    "iris = load_iris()\n",
    "X = iris['data'] # array of samples 4 dimensions each describing a feature\n",
    "y = iris['target'] # array of labels (0, 1, 2)\n",
    "names = iris['target_names'] # array of labels (0, 1, 2)\n",
    "feature_names = iris['feature_names'] # ['sepal length (cm)', 'sepal width (cm)', 'petal length (cm)', 'petal width (cm)']\n",
    "\n",
    "# One hot encoding\n",
    "enc = OneHotEncoder()\n",
    "Y = enc.fit_transform(y[:, np.newaxis]).toarray() # Y is output of 3 dimensions now, one hot encoding\n",
    "\n",
    "# Scale data to have mean 0 and variance 1 \n",
    "# which is importance for convergence of the neural network\n",
    "scaler = StandardScaler()\n",
    "X_scaled = scaler.fit_transform(X)\n",
    "\n",
    "# Split the data set into training and testing\n",
    "Iris_Xtrain, Iris_Xtest, Iris_Ytrain, Iris_Ytest = train_test_split(X_scaled, Y, test_size=0.2, random_state=2)\n",
    "print(\"Iris_Xtrain shape = {}\".format(Iris_Xtrain.shape))\n",
    "print(\"Iris_Ytrain shape = {}\".format(Iris_Ytrain.shape))\n",
    "print(\"Iris_Xtest shape = {}\".format(Iris_Xtest.shape))\n",
    "print(\"Iris_Ytest shape = {}\".format(Iris_Ytest.shape))\n",
    "\n",
    "n_features = X.shape[1]\n",
    "n_classes = Y.shape[1]"
   ]
  },
  {
   "cell_type": "code",
   "execution_count": null,
   "metadata": {},
   "outputs": [],
   "source": [
    "def build_model():\n",
    "    model = keras.Sequential([\n",
    "    tf.keras.layers.Dense(10, activation=tf.nn.relu, input_shape=(4,)),  # input shape required\n",
    "    tf.keras.layers.Dense(10, activation=tf.nn.relu),\n",
    "    tf.keras.layers.Dense(3)\n",
    "    ])\n",
    "\n",
    "    optimizer = tf.keras.optimizers.RMSprop(0.001)\n",
    "\n",
    "    model.compile(loss='mse',\n",
    "                optimizer=optimizer)\n",
    "    return model\n",
    "\n",
    "irismodel = build_model()\n",
    "\n",
    "# The patience parameter is the amount of epochs to check for improvement\n",
    "early_stop = keras.callbacks.EarlyStopping(monitor='val_loss', patience=15)\n",
    "\n",
    "irismodel.summary()"
   ]
  },
  {
   "cell_type": "markdown",
   "metadata": {},
   "source": [
    "### Experimental region <a id=\"irisexp\"></a>\n",
    "\n",
    "This is where we can run our experiments and invesigate parameters etc."
   ]
  },
  {
   "cell_type": "markdown",
   "metadata": {},
   "source": [
    "#### Test 1 - Default Parameters <a id=\"irisdefault\"></a>"
   ]
  },
  {
   "cell_type": "code",
   "execution_count": null,
   "metadata": {},
   "outputs": [],
   "source": [
    "import numpy as np\n",
    "import pylab as plt\n",
    "\n",
    "class NN_Swarm():\n",
    "    \n",
    "    def __init__(self, n_particles = 30, x_max = 1, v_max = 0.1, c_1 = 2, c_2 = 2):\n",
    "        self.n_particles = n_particles\n",
    "        self.x_min = -1*x_max\n",
    "        self.x_max = x_max\n",
    "        self.v_min = -1*v_max\n",
    "        self.v_max = v_max\n",
    "        self.c_1 = c_1\n",
    "        self.c_2 = c_2\n",
    "\n",
    "    def provide_model(self, model):\n",
    "        self.model = model\n",
    "        self.ls_form = []\n",
    "        my_weights = model.get_weights()\n",
    "        index = 0\n",
    "        for comp in my_weights:\n",
    "            self.ls_form.append([index, index + np.size(comp), comp.shape])\n",
    "            index += np.size(comp)\n",
    "        converted_weights = self._Convert(my_weights)\n",
    "        self.n_dims = converted_weights.shape[0]\n",
    "        self.current_pos = self.x_min + (self.x_max-self.x_min)*np.random.rand(self.n_particles, self.n_dims) #initialise the particles\n",
    "        self.p_best = self.current_pos\n",
    "        self.v = self.v_min + (self.v_max-self.v_min)*np.random.rand(self.n_particles, self.n_dims)\n",
    "    \n",
    "    def provide_data(self, X_train, X_test, Y_train, Y_test):\n",
    "        self.X_train = X_train\n",
    "        self.X_test = X_test\n",
    "        self.Y_train = Y_train\n",
    "        self.Y_test = Y_test\n",
    "        print(self.current_pos.shape)\n",
    "        try:\n",
    "            float(self.model.evaluate(self.X_test, self.Y_test, verbose=0))\n",
    "        except TypeError as error:\n",
    "            print(\"Model.evaluate is returning multiple values.\\nThis is likely because you have asked the model to return additional metrics.\\nPlease remove the \\'metrics=\\' part of model.compile\")\n",
    "            raise(error)\n",
    "        self.g_best = self.p_best[np.argmin(self.f(self.current_pos)),:]\n",
    "        self.pbest_perform = self.f(self.p_best)\n",
    "        self.gbest_perform = self.f(self.g_best)\n",
    "        self.nn_weights = self._ConvertBack(self.g_best)      \n",
    "\n",
    "    def train(self, iterations = 30, give_curve = False, train_fast = False):\n",
    "        \"\"\" Function to initiate swarm optimization of the weights and biases for the keras\n",
    "        model provided. Runs for 50 iterations by default. Set give_curve = True to directly\n",
    "        return a training curve (a numpy array with performance evaluations on training and \n",
    "        test data for each iteration) \"\"\"\n",
    "\n",
    "        try:\n",
    "            self.model\n",
    "            self.X_train\n",
    "            self.X_test\n",
    "            self.Y_train\n",
    "            self.Y_test\n",
    "        except AttributeError as error:\n",
    "            print(\"\\n\\n***You must provide the swarm with both a model and training data before attempting to train***\\n\\n\")\n",
    "            print(\"Provide a model with: \\n\\n     your_swarm.provide_model(model)\\n\")\n",
    "            print(\"Provide data with: \\n\\n     your_swarm.provide_data(X_train, X_test, Y_train, Y_test)\\n\")\n",
    "            raise(error)\n",
    "\n",
    "        #If it's asked for, provide a list to store the training curve\n",
    "        if not train_fast:        \n",
    "            training_curve = []\n",
    "        is_better = np.zeros([self.n_particles,1])\n",
    "        my_string = \"g_best changed: \"\n",
    "        self.g_best_minus1 = self.g_best\n",
    "        for i in range(iterations):\n",
    "            m_v_max = self.v_max #*g_best_perform\n",
    "\n",
    "            #update the positions using the velocity\n",
    "            self.v += self.c_1*(np.random.rand(self.current_pos.shape[0],1))*(self.p_best-self.current_pos)\n",
    "            self.v += self.c_2*(np.random.rand(self.current_pos.shape[0],1))*(self.g_best-self.current_pos)\n",
    "            v_norm = np.linalg.norm(self.v,axis=1).reshape([self.v.shape[0],1])             #code for velocity limitation\n",
    "            self.v = np.where(v_norm < m_v_max, self.v, m_v_max*self.v/v_norm)                       #(comment in to use it)\n",
    "            self.current_pos += self.v\n",
    "            curr_perform = self.f(self.current_pos)\n",
    "            #replace the p_bests with the current location if they're better\n",
    "            is_better = (curr_perform<self.pbest_perform).reshape([is_better.shape[0],1])\n",
    "            self.p_best = is_better*self.current_pos + np.logical_not(is_better)*self.p_best\n",
    "            self.pbest_perform = is_better*curr_perform + np.logical_not(is_better)*self.pbest_perform\n",
    "            #update g_best\n",
    "            if np.min(self.pbest_perform) < self.gbest_perform:\n",
    "                self.g_best = self.p_best[np.argmin(self.pbest_perform),:]\n",
    "                self.gbest_perform = np.min(self.pbest_perform)\n",
    "            my_string += str(int(np.allclose(self.g_best, self.g_best_minus1)))\n",
    "#             print(\"\\rPerformance at iteration \" + str(i+1) + \": \" + str(self.gbest_perform), end = \"\\r\")\n",
    "            self.g_best_minus1 = self.g_best\n",
    "            val_perform = self.f(self.g_best, val_set = True)\n",
    "            print(val_perform)\n",
    "            if not train_fast:\n",
    "                training_curve.append([self.gbest_perform.astype(float), val_perform])\n",
    "        self.nn_weights = self._ConvertBack(self.g_best) \n",
    "        print(my_string)\n",
    "        if not train_fast:\n",
    "            self.train_curve = np.array(training_curve)\n",
    "            if give_curve:\n",
    "                return np.array(training_curve)\n",
    "\n",
    "    def f(self, positions, val_set = False):\n",
    "        if positions.ndim == 1:\n",
    "            positions = positions.reshape([1, positions.shape[0]])\n",
    "        objective = np.zeros([positions.shape[0], 1])\n",
    "        for part_ind, part_pos in enumerate(positions):\n",
    "            x_1 = self._ConvertBack(part_pos)\n",
    "            self.model.set_weights(x_1)\n",
    "            if val_set == False:\n",
    "                objective[part_ind] = self.model.evaluate(self.X_train, self.Y_train, verbose=0)\n",
    "            else:\n",
    "                objective[part_ind] = self.model.evaluate(self.X_test, self.Y_test, verbose=0)[0]\n",
    "        return objective\n",
    "\n",
    "    def plot_training(self):\n",
    "        try:\n",
    "            self.train_curve\n",
    "        except AttributeError:\n",
    "            print(\"No training curve available. Either training hasn't occured, or data recording was suppressed via the \\\"train_fast\\\" parameter\")\n",
    "            return\n",
    "        plt.plot(self.train_curve[:,0], label=\"Training\")\n",
    "        plt.plot(self.train_curve[:,1], label=\"Validation\")\n",
    "        plt.legend()\n",
    "        plt.show()\n",
    "\n",
    "    def _Convert(self, pre_w):\n",
    "        position = []\n",
    "        for w in pre_w:\n",
    "            position.append(w.flatten())\n",
    "        return np.concatenate(position)\n",
    "    \n",
    "    def _ConvertBack(self, position):\n",
    "        reinput = []\n",
    "        for i in self.ls_form:\n",
    "            reinput.append(position[i[0]:i[1]].reshape(i[2]))\n",
    "        return reinput"
   ]
  },
  {
   "cell_type": "code",
   "execution_count": null,
   "metadata": {},
   "outputs": [],
   "source": [
    "iris_swarm1 = NN_Swarm(v_max=100)\n",
    "iris_swarm1.provide_model(irismodel)\n",
    "iris_swarm1.provide_data(Iris_Xtrain, Iris_Xtest, Iris_Ytrain, Iris_Ytest)"
   ]
  },
  {
   "cell_type": "code",
   "execution_count": null,
   "metadata": {},
   "outputs": [],
   "source": [
    "test_weights = iris_swarm1.nn_weights"
   ]
  },
  {
   "cell_type": "code",
   "execution_count": null,
   "metadata": {},
   "outputs": [],
   "source": [
    "iri"
   ]
  },
  {
   "cell_type": "code",
   "execution_count": null,
   "metadata": {},
   "outputs": [],
   "source": [
    "irismodel.evaluate(X_test, Y_test, a)"
   ]
  },
  {
   "cell_type": "code",
   "execution_count": null,
   "metadata": {},
   "outputs": [],
   "source": [
    "iris_swarm1.train(iterations=10)\n",
    "iris_swarm1.plot_training()"
   ]
  },
  {
   "cell_type": "markdown",
   "metadata": {},
   "source": [
    "#### Test 2 - Altering Vmax <a id=\"irisvmax\"></a>"
   ]
  },
  {
   "cell_type": "code",
   "execution_count": null,
   "metadata": {},
   "outputs": [],
   "source": [
    "iris_swarm2 = NN_Swarm(v_max=0.5)\n",
    "iris_swarm2.provide_model(irismodel)\n",
    "iris_swarm2.provide_data(Iris_Xtrain, Iris_Xtest, Iris_Ytrain, Iris_Ytest)"
   ]
  },
  {
   "cell_type": "code",
   "execution_count": null,
   "metadata": {},
   "outputs": [],
   "source": [
    "iris_swarm2.train(iterations=10)\n",
    "iris_swarm2.plot_training()"
   ]
  },
  {
   "cell_type": "markdown",
   "metadata": {},
   "source": [
    "From this simple experiment, it seems that increasing vmax will result in an increased initial learning rate (note that the above experiment only ran for 10 iterations). Let's see what happens with a very large v_max:"
   ]
  },
  {
   "cell_type": "code",
   "execution_count": null,
   "metadata": {},
   "outputs": [],
   "source": [
    "iris_swarm3 = NN_Swarm(v_max=5)\n",
    "iris_swarm3.provide_model(irismodel)\n",
    "iris_swarm3.provide_data(Iris_Xtrain, Iris_Xtest, Iris_Ytrain, Iris_Ytest)"
   ]
  },
  {
   "cell_type": "code",
   "execution_count": null,
   "metadata": {},
   "outputs": [],
   "source": [
    "iris_swarm3.train(iterations=10)\n",
    "iris_swarm3.plot_training()"
   ]
  },
  {
   "cell_type": "markdown",
   "metadata": {},
   "source": [
    "This actually led to even better training results! Let's now effectively remove vmax from the algorithm:"
   ]
  },
  {
   "cell_type": "code",
   "execution_count": null,
   "metadata": {},
   "outputs": [],
   "source": [
    "iris_swarm4 = NN_Swarm(v_max=20)\n",
    "iris_swarm4.provide_model(irismodel)\n",
    "iris_swarm4.provide_data(Iris_Xtrain, Iris_Xtest, Iris_Ytrain, Iris_Ytest)"
   ]
  },
  {
   "cell_type": "code",
   "execution_count": null,
   "metadata": {
    "scrolled": true
   },
   "outputs": [],
   "source": [
    "iris_swarm4.train(iterations=10)\n",
    "iris_swarm4.plot_training()"
   ]
  },
  {
   "cell_type": "markdown",
   "metadata": {},
   "source": [
    "## Test on the MNIST data set <a id=\"mnist\"></a>\n",
    "\n",
    "Although the data set above was actually also the Iris one, we'll do a more thorough, and commented version here. This is copied straight out of McKrimble's notebook (PSO_NN_for_Iris)\n",
    "\n",
    "- [Definition of neural network and collection of dataset](#nnmnist)\n",
    "- [Experimental region](#mnistexp)\n",
    "    * [Test 1: Default Parameters](#mnistdefault)\n",
    "    * [Test 2: Altering Vmax](#mnistvmax)"
   ]
  },
  {
   "cell_type": "markdown",
   "metadata": {},
   "source": [
    "### Definition of neural network and collection of dataset <a id=\"nnmnist\"></a>"
   ]
  },
  {
   "cell_type": "code",
   "execution_count": 3,
   "metadata": {},
   "outputs": [
    {
     "name": "stdout",
     "output_type": "stream",
     "text": [
      "2.0.0\n"
     ]
    },
    {
     "name": "stderr",
     "output_type": "stream",
     "text": [
      "Using TensorFlow backend.\n"
     ]
    }
   ],
   "source": [
    "%matplotlib inline\n",
    "from matplotlib import pyplot as plt\n",
    "import numpy as np\n",
    "\n",
    "import pandas as pd\n",
    "\n",
    "import tensorflow as tf\n",
    "\n",
    "from tensorflow import keras\n",
    "from tensorflow.keras import layers\n",
    "\n",
    "import tensorflow_docs as tfdocs\n",
    "import tensorflow_docs.plots\n",
    "import tensorflow_docs.modeling\n",
    "\n",
    "print(tf.__version__)\n",
    "\n",
    "from IPython.display import SVG\n",
    "from keras.utils import model_to_dot\n",
    "import pydot\n",
    "\n",
    "from sklearn.datasets import load_digits\n",
    "from sklearn.model_selection import train_test_split\n",
    "from sklearn.preprocessing import OneHotEncoder, StandardScaler"
   ]
  },
  {
   "cell_type": "code",
   "execution_count": 4,
   "metadata": {},
   "outputs": [],
   "source": [
    "# The digits dataset\n",
    "digits = load_digits()\n",
    "X = digits['data'] # (1797, 64), 1797 digits, 64 pixels per 8x8 image\n",
    "y = digits['target'] # 1797 labels of 0-9\n",
    "images = digits['images'] # (1797, 8, 8) dataset\n",
    "names = digits['target_names'] # [0 1 2 3 4 5 6 7 8 9]\n",
    "\n",
    "# One hot encoding\n",
    "enc = OneHotEncoder()\n",
    "Y = enc.fit_transform(y[:, np.newaxis]).toarray()\n",
    "\n",
    "#preprocess: scale between 0 and 1\n",
    "X /= 16.0\n",
    "images /= 16.0"
   ]
  },
  {
   "cell_type": "code",
   "execution_count": 5,
   "metadata": {},
   "outputs": [
    {
     "name": "stdout",
     "output_type": "stream",
     "text": [
      "XtrainMNIST shape = (1437, 8, 8)\n",
      "YtrainMNIST shape = (1437,)\n",
      "XtestMNIST shape = (360, 8, 8)\n",
      "YtestMNIST shape = (360,)\n"
     ]
    }
   ],
   "source": [
    "# Split the data set into training and testing\n",
    "XtrainMNIST, XtestMNIST, YtrainMNIST, YtestMNIST = train_test_split(images, y, test_size=0.2, random_state=2)\n",
    "print(\"XtrainMNIST shape = {}\".format(XtrainMNIST.shape))\n",
    "print(\"YtrainMNIST shape = {}\".format(YtrainMNIST.shape))\n",
    "print(\"XtestMNIST shape = {}\".format(XtestMNIST.shape))\n",
    "print(\"YtestMNIST shape = {}\".format(YtestMNIST.shape))"
   ]
  },
  {
   "cell_type": "code",
   "execution_count": 6,
   "metadata": {
    "scrolled": true
   },
   "outputs": [
    {
     "name": "stdout",
     "output_type": "stream",
     "text": [
      "Model: \"sequential\"\n",
      "_________________________________________________________________\n",
      "Layer (type)                 Output Shape              Param #   \n",
      "=================================================================\n",
      "flatten (Flatten)            (None, 64)                0         \n",
      "_________________________________________________________________\n",
      "dense (Dense)                (None, 128)               8320      \n",
      "_________________________________________________________________\n",
      "dense_1 (Dense)              (None, 10)                1290      \n",
      "=================================================================\n",
      "Total params: 9,610\n",
      "Trainable params: 9,610\n",
      "Non-trainable params: 0\n",
      "_________________________________________________________________\n"
     ]
    }
   ],
   "source": [
    "def build_model():\n",
    "    \n",
    "    model = keras.Sequential([\n",
    "    keras.layers.Flatten(input_shape=(8, 8)),\n",
    "    keras.layers.Dense(128, activation='relu'),\n",
    "    keras.layers.Dense(10)\n",
    "])\n",
    "\n",
    "    model.compile(optimizer='adam',\n",
    "              loss=tf.keras.losses.SparseCategoricalCrossentropy(from_logits=True))\n",
    "    return model\n",
    "\n",
    "mnistmodel = build_model()\n",
    "mnistmodel.summary()"
   ]
  },
  {
   "cell_type": "markdown",
   "metadata": {},
   "source": [
    "### Experimental region <a id=\"mnistexp\"></a>\n",
    "\n",
    "Weirdly, it appears that keras is just as fast at evaluating the output of the entire (larger) dataset for MNIST as it is for the same dataset in iris. I really have no clue why this is, but we give thanks to the TensorFlow gods for such a phenomenom"
   ]
  },
  {
   "cell_type": "code",
   "execution_count": 11,
   "metadata": {},
   "outputs": [
    {
     "name": "stdout",
     "output_type": "stream",
     "text": [
      "48.6 ms ± 1.42 ms per loop (mean ± std. dev. of 7 runs, 10 loops each)\n"
     ]
    }
   ],
   "source": [
    "%timeit mnistmodel.evaluate(XtrainMNIST, YtrainMNIST, verbose=0)"
   ]
  },
  {
   "cell_type": "markdown",
   "metadata": {},
   "source": [
    "#### Standard values <a id=\"mnistdefault\"></a>"
   ]
  },
  {
   "cell_type": "code",
   "execution_count": 20,
   "metadata": {},
   "outputs": [
    {
     "name": "stdout",
     "output_type": "stream",
     "text": [
      "(30, 9610)\n"
     ]
    }
   ],
   "source": [
    "mnist_swarm1 = NN_Swarm(v_max=1)\n",
    "mnist_swarm1.provide_model(mnistmodel)\n",
    "mnist_swarm1.provide_data(XtrainMNIST, XtestMNIST, YtrainMNIST, YtestMNIST)"
   ]
  },
  {
   "cell_type": "code",
   "execution_count": 21,
   "metadata": {},
   "outputs": [
    {
     "name": "stdout",
     "output_type": "stream",
     "text": [
      "Performance at iteration 40: 2.2962205585872623\r"
     ]
    }
   ],
   "source": [
    "mnist_swarm1.train(iterations = 40)"
   ]
  },
  {
   "cell_type": "code",
   "execution_count": 22,
   "metadata": {},
   "outputs": [
    {
     "data": {
      "image/png": "[encoded data removed]",
      "text/plain": [
       "<Figure size 432x288 with 1 Axes>"
      ]
     },
     "metadata": {
      "needs_background": "light"
     },
     "output_type": "display_data"
    }
   ],
   "source": [
    "mnist_swarm1.plot_training()"
   ]
  },
  {
   "cell_type": "markdown",
   "metadata": {},
   "source": [
    "#### Altering v_max <a id=\"mnistvmax\"></a>\n",
    "\n",
    "The dimensionality of this data is a lot greater than it was for the Iris dataset:"
   ]
  },
  {
   "cell_type": "code",
   "execution_count": 25,
   "metadata": {},
   "outputs": [
    {
     "name": "stdout",
     "output_type": "stream",
     "text": [
      "Number of dimensions for MNIST = 9610\n"
     ]
    }
   ],
   "source": [
    "print(\"Number of dimensions for MNIST = %d\" % mnist_swarm1.n_dims)"
   ]
  },
  {
   "cell_type": "markdown",
   "metadata": {},
   "source": [
    "This suggests we might be able to use a slightly speedier learning rate. Let's try this out:"
   ]
  },
  {
   "cell_type": "code",
   "execution_count": 27,
   "metadata": {},
   "outputs": [
    {
     "name": "stdout",
     "output_type": "stream",
     "text": [
      "(30, 9610)\n"
     ]
    }
   ],
   "source": [
    "mnist_swarm2 = NN_Swarm(v_max=10)\n",
    "mnist_swarm2.provide_model(mnistmodel)\n",
    "mnist_swarm2.provide_data(XtrainMNIST, XtestMNIST, YtrainMNIST, YtestMNIST)"
   ]
  },
  {
   "cell_type": "code",
   "execution_count": 28,
   "metadata": {},
   "outputs": [
    {
     "name": "stdout",
     "output_type": "stream",
     "text": [
      "Performance at iteration 20: 2.2655764568490794\r"
     ]
    }
   ],
   "source": [
    "mnist_swarm2.train(iterations = 20)"
   ]
  },
  {
   "cell_type": "code",
   "execution_count": 29,
   "metadata": {},
   "outputs": [
    {
     "data": {
      "image/png": "[encoded data removed]",
      "text/plain": [
       "<Figure size 432x288 with 1 Axes>"
      ]
     },
     "metadata": {
      "needs_background": "light"
     },
     "output_type": "display_data"
    }
   ],
   "source": [
    "mnist_swarm2.plot_training()"
   ]
  }
 ],
 "metadata": {
  "kernelspec": {
   "display_name": "Python 3",
   "language": "python",
   "name": "python3"
  },
  "language_info": {
   "codemirror_mode": {
    "name": "ipython",
    "version": 3
   },
   "file_extension": ".py",
   "mimetype": "text/x-python",
   "name": "python",
   "nbconvert_exporter": "python",
   "pygments_lexer": "ipython3",
   "version": "3.7.3"
  }
 },
 "nbformat": 4,
 "nbformat_minor": 4
}
